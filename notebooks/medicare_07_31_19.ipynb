{
 "cells": [
  {
   "cell_type": "code",
   "execution_count": 1,
   "metadata": {},
   "outputs": [
    {
     "name": "stdout",
     "output_type": "stream",
     "text": [
      "Requirement already satisfied: joblib in /home/eric/anaconda3/lib/python3.7/site-packages (0.13.2)\r\n"
     ]
    }
   ],
   "source": [
    "!pip install joblib"
   ]
  },
  {
   "cell_type": "code",
   "execution_count": 2,
   "metadata": {},
   "outputs": [],
   "source": [
    "import pandas as pd\n",
    "import numpy as np\n",
    "import matplotlib.pyplot as plt\n",
    "\n",
    "from category_encoders import OrdinalEncoder\n",
    "from sklearn.pipeline import make_pipeline\n",
    "from sklearn.metrics import mean_squared_error\n",
    "from sklearn.metrics import mean_absolute_error\n",
    "\n",
    "from sklearn.ensemble import RandomForestRegressor\n",
    "from sklearn.impute import SimpleImputer\n",
    "import sklearn\n",
    "\n",
    "from joblib import dump, load"
   ]
  },
  {
   "cell_type": "code",
   "execution_count": 3,
   "metadata": {},
   "outputs": [
    {
     "name": "stdout",
     "output_type": "stream",
     "text": [
      "0.20.3\n"
     ]
    }
   ],
   "source": [
    "print(sklearn.__version__)"
   ]
  },
  {
   "cell_type": "markdown",
   "metadata": {},
   "source": [
    "# Data Cleaning"
   ]
  },
  {
   "cell_type": "code",
   "execution_count": 5,
   "metadata": {},
   "outputs": [],
   "source": [
    "# # unzip files\n",
    "# !unzip Other/Inpatient_Data_2011_CSV.zip\n",
    "# !unzip Other/Inpatient_Data_2012_CSV.zip\n",
    "# !unzip Other/Inpatient_Data_2013_CSV.zip\n",
    "# !unzip Other/Inpatient_Data_2014_CSV.zip\n",
    "# !unzip Other/Inpatient_Data_2015_CSV.zip\n",
    "# !unzip Other/Inpatient_Data_2016_CSV.zip"
   ]
  },
  {
   "cell_type": "code",
   "execution_count": 8,
   "metadata": {},
   "outputs": [],
   "source": [
    "# load data into pandas\n",
    "top_2011 = pd.read_csv('Medicare_Provider_Charge_Inpatient_DRG100_FY2011.csv')\n",
    "top_2012 = pd.read_csv('Medicare_Provider_Charge_Inpatient_DRG100_FY2012.csv')\n",
    "top_2013 = pd.read_csv('Medicare_Provider_Charge_Inpatient_DRG100_FY2013.csv')\n",
    "og_2014 = pd.read_csv('Medicare_Provider_Charge_Inpatient_DRGALL_FY2014.csv')\n",
    "og_2015 = pd.read_csv('Medicare_Provider_Charge_Inpatient_DRGALL_FY2015.csv')\n",
    "og_2016 = pd.read_csv('Medicare_Provider_Charge_Inpatient_DRGALL_FY2016.csv')"
   ]
  },
  {
   "cell_type": "code",
   "execution_count": 9,
   "metadata": {},
   "outputs": [],
   "source": [
    "# define top100 list\n",
    "top100 = top_2011['DRG Definition'].unique().tolist()"
   ]
  },
  {
   "cell_type": "code",
   "execution_count": 10,
   "metadata": {},
   "outputs": [],
   "source": [
    "# get diagnoses from top 100\n",
    "top_2014 = og_2014[og_2014['DRG Definition'].isin(top100)]\n",
    "top_2015 = og_2015[og_2015['DRG Definition'].isin(top100)]\n",
    "top_2016 = og_2016[og_2016['DRG Definition'].isin(top100)]"
   ]
  },
  {
   "cell_type": "code",
   "execution_count": 11,
   "metadata": {
    "scrolled": true
   },
   "outputs": [
    {
     "name": "stderr",
     "output_type": "stream",
     "text": [
      "/home/eric/anaconda3/lib/python3.7/site-packages/ipykernel_launcher.py:5: SettingWithCopyWarning: \n",
      "A value is trying to be set on a copy of a slice from a DataFrame.\n",
      "Try using .loc[row_indexer,col_indexer] = value instead\n",
      "\n",
      "See the caveats in the documentation: http://pandas.pydata.org/pandas-docs/stable/indexing.html#indexing-view-versus-copy\n",
      "  \"\"\"\n",
      "/home/eric/anaconda3/lib/python3.7/site-packages/ipykernel_launcher.py:6: SettingWithCopyWarning: \n",
      "A value is trying to be set on a copy of a slice from a DataFrame.\n",
      "Try using .loc[row_indexer,col_indexer] = value instead\n",
      "\n",
      "See the caveats in the documentation: http://pandas.pydata.org/pandas-docs/stable/indexing.html#indexing-view-versus-copy\n",
      "  \n",
      "/home/eric/anaconda3/lib/python3.7/site-packages/ipykernel_launcher.py:7: SettingWithCopyWarning: \n",
      "A value is trying to be set on a copy of a slice from a DataFrame.\n",
      "Try using .loc[row_indexer,col_indexer] = value instead\n",
      "\n",
      "See the caveats in the documentation: http://pandas.pydata.org/pandas-docs/stable/indexing.html#indexing-view-versus-copy\n",
      "  import sys\n"
     ]
    }
   ],
   "source": [
    "# add year feature\n",
    "top_2011['year'] = [2011] * top_2011.shape[0]\n",
    "top_2012['year'] = [2012] * top_2012.shape[0]\n",
    "top_2013['year'] = [2013] * top_2013.shape[0]\n",
    "top_2014['year'] = [2014] * top_2014.shape[0]\n",
    "top_2015['year'] = [2015] * top_2015.shape[0]\n",
    "top_2016['year'] = [2016] * top_2016.shape[0]"
   ]
  },
  {
   "cell_type": "code",
   "execution_count": 12,
   "metadata": {},
   "outputs": [
    {
     "name": "stderr",
     "output_type": "stream",
     "text": [
      "/home/eric/anaconda3/lib/python3.7/site-packages/ipykernel_launcher.py:5: SettingWithCopyWarning: \n",
      "A value is trying to be set on a copy of a slice from a DataFrame.\n",
      "Try using .loc[row_indexer,col_indexer] = value instead\n",
      "\n",
      "See the caveats in the documentation: http://pandas.pydata.org/pandas-docs/stable/indexing.html#indexing-view-versus-copy\n",
      "  \"\"\"\n",
      "/home/eric/anaconda3/lib/python3.7/site-packages/ipykernel_launcher.py:6: SettingWithCopyWarning: \n",
      "A value is trying to be set on a copy of a slice from a DataFrame.\n",
      "Try using .loc[row_indexer,col_indexer] = value instead\n",
      "\n",
      "See the caveats in the documentation: http://pandas.pydata.org/pandas-docs/stable/indexing.html#indexing-view-versus-copy\n",
      "  \n"
     ]
    }
   ],
   "source": [
    "# 2016 has a '$' in front of `Average Total Payments`\n",
    "def strip_dollar(entry):\n",
    "    return float((entry.strip('$')).replace(',', ''))\n",
    "\n",
    "top_2016['Average Total Payments'] = top_2016['Average Total Payments'].apply(strip_dollar)\n",
    "top_2016['Average Medicare Payments'] = top_2016['Average Medicare Payments'].apply(strip_dollar)"
   ]
  },
  {
   "cell_type": "code",
   "execution_count": 13,
   "metadata": {},
   "outputs": [],
   "source": [
    "# concatenate dataframes\n",
    "dataframes = [top_2011, top_2012, top_2013, top_2014, top_2015, top_2016]\n",
    "top100 = pd.concat(dataframes)"
   ]
  },
  {
   "cell_type": "code",
   "execution_count": 14,
   "metadata": {},
   "outputs": [],
   "source": [
    "# change name\n",
    "top100['diagnosis'] = top100['DRG Definition']\n",
    "top100 = top100.drop(columns='DRG Definition')\n",
    "\n",
    "top100['state'] = top100['Provider State']\n",
    "top100 = top100.drop(columns='Provider State')"
   ]
  },
  {
   "cell_type": "code",
   "execution_count": 15,
   "metadata": {},
   "outputs": [],
   "source": [
    "# drop columns\n",
    "top100_clean = top100.drop(columns=['Provider Id',\n",
    "                     'Provider Name',\n",
    "                     'Provider Street Address',\n",
    "                     'Provider City',\n",
    "                     'Provider Zip Code',\n",
    "                     'Hospital Referral Region (HRR) Description',\n",
    "                     'Total Discharges',\n",
    "                     'Average Covered Charges'])"
   ]
  },
  {
   "cell_type": "code",
   "execution_count": 16,
   "metadata": {},
   "outputs": [],
   "source": [
    "# create out-of-pocket payment feature\n",
    "top100_clean['cost'] = top100_clean['Average Total Payments'] - top100_clean['Average Medicare Payments']\n",
    "\n",
    "# now drop other payment features\n",
    "top100 = top100_clean.drop(columns=['Average Total Payments',\n",
    "                                    'Average Medicare Payments'])"
   ]
  },
  {
   "cell_type": "code",
   "execution_count": 17,
   "metadata": {
    "scrolled": true
   },
   "outputs": [],
   "source": [
    "# get rid of beginning\n",
    "def strip_beginning(entry):\n",
    "    return str(entry)[6:]\n",
    "\n",
    "top100['diagnosis'] = top100['diagnosis'].apply(strip_beginning)"
   ]
  },
  {
   "cell_type": "code",
   "execution_count": 18,
   "metadata": {},
   "outputs": [],
   "source": [
    "# get rid of endings\n",
    "endings = [' W/O CC/MCC',\n",
    "           ' W/O MCC',\n",
    "           ' W MCC',\n",
    "           ' W CC',\n",
    "           ' W/O CC',\n",
    "           ' W CC/MCC']\n",
    "\n",
    "def strip_endings(entry):\n",
    "    for ending in endings:\n",
    "        if entry.endswith(ending):\n",
    "            return entry.replace(ending, '')\n",
    "            \n",
    "top100['diagnosis'] = top100['diagnosis'].apply(strip_endings)"
   ]
  },
  {
   "cell_type": "code",
   "execution_count": 19,
   "metadata": {},
   "outputs": [],
   "source": [
    "# categorize diagnoses\n",
    "diagnoses = top100['diagnosis'].unique().tolist()\n",
    "\n",
    "# neuro\n",
    "neuro = diagnoses[:3] + diagnoses[4:6]\n",
    "\n",
    "# respiratory\n",
    "respiratory = diagnoses[6:11]\n",
    "\n",
    "# circulatory\n",
    "circulatory = diagnoses[11:25]\n",
    "\n",
    "# digestive\n",
    "digestive = diagnoses[25:33] + diagnoses[44:47]\n",
    "\n",
    "# orthopedic\n",
    "orthopedic = diagnoses[33:41] + diagnoses[53:]"
   ]
  },
  {
   "cell_type": "code",
   "execution_count": 20,
   "metadata": {},
   "outputs": [],
   "source": [
    "def categorize(diagnosis):\n",
    "    if diagnosis in neuro:\n",
    "        return 'Neurological'\n",
    "    elif diagnosis in respiratory:\n",
    "        return 'Respiratory'\n",
    "    elif diagnosis in circulatory:\n",
    "        return 'Circulatory'\n",
    "    elif diagnosis in digestive:\n",
    "        return 'Digestive'\n",
    "    elif diagnosis in orthopedic:\n",
    "        return 'Orthopedic'\n",
    "    else:\n",
    "        return 'Other'"
   ]
  },
  {
   "cell_type": "code",
   "execution_count": 21,
   "metadata": {},
   "outputs": [],
   "source": [
    "top100['diagnosis'] = top100['diagnosis'].apply(categorize)"
   ]
  },
  {
   "cell_type": "code",
   "execution_count": 22,
   "metadata": {},
   "outputs": [
    {
     "data": {
      "text/html": [
       "<div>\n",
       "<style scoped>\n",
       "    .dataframe tbody tr th:only-of-type {\n",
       "        vertical-align: middle;\n",
       "    }\n",
       "\n",
       "    .dataframe tbody tr th {\n",
       "        vertical-align: top;\n",
       "    }\n",
       "\n",
       "    .dataframe thead th {\n",
       "        text-align: right;\n",
       "    }\n",
       "</style>\n",
       "<table border=\"1\" class=\"dataframe\">\n",
       "  <thead>\n",
       "    <tr style=\"text-align: right;\">\n",
       "      <th></th>\n",
       "      <th>year</th>\n",
       "      <th>diagnosis</th>\n",
       "      <th>state</th>\n",
       "      <th>cost</th>\n",
       "    </tr>\n",
       "  </thead>\n",
       "  <tbody>\n",
       "    <tr>\n",
       "      <th>0</th>\n",
       "      <td>2011</td>\n",
       "      <td>Neurological</td>\n",
       "      <td>AL</td>\n",
       "      <td>1013.505494</td>\n",
       "    </tr>\n",
       "    <tr>\n",
       "      <th>1</th>\n",
       "      <td>2011</td>\n",
       "      <td>Neurological</td>\n",
       "      <td>AL</td>\n",
       "      <td>810.857143</td>\n",
       "    </tr>\n",
       "    <tr>\n",
       "      <th>2</th>\n",
       "      <td>2011</td>\n",
       "      <td>Neurological</td>\n",
       "      <td>AL</td>\n",
       "      <td>981.166666</td>\n",
       "    </tr>\n",
       "    <tr>\n",
       "      <th>3</th>\n",
       "      <td>2011</td>\n",
       "      <td>Neurological</td>\n",
       "      <td>AL</td>\n",
       "      <td>1288.400000</td>\n",
       "    </tr>\n",
       "    <tr>\n",
       "      <th>4</th>\n",
       "      <td>2011</td>\n",
       "      <td>Neurological</td>\n",
       "      <td>AL</td>\n",
       "      <td>806.888889</td>\n",
       "    </tr>\n",
       "  </tbody>\n",
       "</table>\n",
       "</div>"
      ],
      "text/plain": [
       "   year     diagnosis state         cost\n",
       "0  2011  Neurological    AL  1013.505494\n",
       "1  2011  Neurological    AL   810.857143\n",
       "2  2011  Neurological    AL   981.166666\n",
       "3  2011  Neurological    AL  1288.400000\n",
       "4  2011  Neurological    AL   806.888889"
      ]
     },
     "execution_count": 22,
     "metadata": {},
     "output_type": "execute_result"
    }
   ],
   "source": [
    "top100.head()"
   ]
  },
  {
   "cell_type": "markdown",
   "metadata": {},
   "source": [
    "# Train/Test Split"
   ]
  },
  {
   "cell_type": "code",
   "execution_count": 23,
   "metadata": {},
   "outputs": [],
   "source": [
    "# train/test split\n",
    "train = pd.concat([top100[top100['year'] == 2011],\n",
    "           top100[top100['year'] == 2012],\n",
    "           top100[top100['year'] == 2013],\n",
    "           top100[top100['year'] == 2014],\n",
    "           top100[top100['year'] == 2015]])\n",
    "\n",
    "test = top100[top100['year'] == 2016]"
   ]
  },
  {
   "cell_type": "code",
   "execution_count": 24,
   "metadata": {},
   "outputs": [],
   "source": [
    "# define target and features\n",
    "target = 'cost'\n",
    "features = ['diagnosis', 'state']"
   ]
  },
  {
   "cell_type": "code",
   "execution_count": 25,
   "metadata": {},
   "outputs": [],
   "source": [
    "# X matrices\n",
    "X_train = train[features]\n",
    "X_test = test[features]\n",
    "\n",
    "# y vector\n",
    "y_train = train[target]\n",
    "y_test = test[target]"
   ]
  },
  {
   "cell_type": "code",
   "execution_count": 26,
   "metadata": {},
   "outputs": [
    {
     "data": {
      "text/html": [
       "<div>\n",
       "<style scoped>\n",
       "    .dataframe tbody tr th:only-of-type {\n",
       "        vertical-align: middle;\n",
       "    }\n",
       "\n",
       "    .dataframe tbody tr th {\n",
       "        vertical-align: top;\n",
       "    }\n",
       "\n",
       "    .dataframe thead th {\n",
       "        text-align: right;\n",
       "    }\n",
       "</style>\n",
       "<table border=\"1\" class=\"dataframe\">\n",
       "  <thead>\n",
       "    <tr style=\"text-align: right;\">\n",
       "      <th></th>\n",
       "      <th>diagnosis</th>\n",
       "      <th>state</th>\n",
       "    </tr>\n",
       "  </thead>\n",
       "  <tbody>\n",
       "    <tr>\n",
       "      <th>3142</th>\n",
       "      <td>Neurological</td>\n",
       "      <td>AL</td>\n",
       "    </tr>\n",
       "    <tr>\n",
       "      <th>3143</th>\n",
       "      <td>Neurological</td>\n",
       "      <td>AL</td>\n",
       "    </tr>\n",
       "    <tr>\n",
       "      <th>3144</th>\n",
       "      <td>Neurological</td>\n",
       "      <td>AL</td>\n",
       "    </tr>\n",
       "    <tr>\n",
       "      <th>3145</th>\n",
       "      <td>Neurological</td>\n",
       "      <td>AL</td>\n",
       "    </tr>\n",
       "    <tr>\n",
       "      <th>3146</th>\n",
       "      <td>Neurological</td>\n",
       "      <td>AL</td>\n",
       "    </tr>\n",
       "  </tbody>\n",
       "</table>\n",
       "</div>"
      ],
      "text/plain": [
       "         diagnosis state\n",
       "3142  Neurological    AL\n",
       "3143  Neurological    AL\n",
       "3144  Neurological    AL\n",
       "3145  Neurological    AL\n",
       "3146  Neurological    AL"
      ]
     },
     "execution_count": 26,
     "metadata": {},
     "output_type": "execute_result"
    }
   ],
   "source": [
    "X_test.head()"
   ]
  },
  {
   "cell_type": "markdown",
   "metadata": {},
   "source": [
    "# Encode and Impute"
   ]
  },
  {
   "cell_type": "code",
   "execution_count": 27,
   "metadata": {},
   "outputs": [],
   "source": [
    "# # instantiate encoder\n",
    "# encoder = OrdinalEncoder()\n",
    "# X_train_encoded = encoder.fit_transform(X_train)\n",
    "# X_test_encoded = encoder.transform(X_test)\n",
    "\n",
    "# # dump encoder\n",
    "# dump(encoder, 'medicare_encoder.joblib')\n",
    "\n",
    "# # instantiate imputer\n",
    "# imputer = SimpleImputer(np.nan, strategy='median')\n",
    "# X_train = pd.DataFrame(imputer.fit_transform(X_train_encoded), columns = X_train_encoded.columns.values)\n",
    "# X_test = pd.DataFrame(imputer.fit_transform(X_test_encoded), columns = X_test_encoded.columns.values)\n",
    "\n",
    "# # fill missing y-values\n",
    "y_train = y_train.fillna(y_train.median())\n",
    "y_test = y_test.fillna(y_test.median())"
   ]
  },
  {
   "cell_type": "code",
   "execution_count": 28,
   "metadata": {},
   "outputs": [
    {
     "data": {
      "text/html": [
       "<div>\n",
       "<style scoped>\n",
       "    .dataframe tbody tr th:only-of-type {\n",
       "        vertical-align: middle;\n",
       "    }\n",
       "\n",
       "    .dataframe tbody tr th {\n",
       "        vertical-align: top;\n",
       "    }\n",
       "\n",
       "    .dataframe thead th {\n",
       "        text-align: right;\n",
       "    }\n",
       "</style>\n",
       "<table border=\"1\" class=\"dataframe\">\n",
       "  <thead>\n",
       "    <tr style=\"text-align: right;\">\n",
       "      <th></th>\n",
       "      <th>diagnosis</th>\n",
       "      <th>state</th>\n",
       "    </tr>\n",
       "  </thead>\n",
       "  <tbody>\n",
       "    <tr>\n",
       "      <th>count</th>\n",
       "      <td>127035</td>\n",
       "      <td>127035</td>\n",
       "    </tr>\n",
       "    <tr>\n",
       "      <th>unique</th>\n",
       "      <td>6</td>\n",
       "      <td>51</td>\n",
       "    </tr>\n",
       "    <tr>\n",
       "      <th>top</th>\n",
       "      <td>Digestive</td>\n",
       "      <td>CA</td>\n",
       "    </tr>\n",
       "    <tr>\n",
       "      <th>freq</th>\n",
       "      <td>31336</td>\n",
       "      <td>10187</td>\n",
       "    </tr>\n",
       "  </tbody>\n",
       "</table>\n",
       "</div>"
      ],
      "text/plain": [
       "        diagnosis   state\n",
       "count      127035  127035\n",
       "unique          6      51\n",
       "top     Digestive      CA\n",
       "freq        31336   10187"
      ]
     },
     "execution_count": 28,
     "metadata": {},
     "output_type": "execute_result"
    }
   ],
   "source": [
    "X_test.describe()"
   ]
  },
  {
   "cell_type": "markdown",
   "metadata": {},
   "source": [
    "# RF"
   ]
  },
  {
   "cell_type": "code",
   "execution_count": 29,
   "metadata": {},
   "outputs": [],
   "source": [
    "# define error metric\n",
    "def rmse(y_true, y_pred):\n",
    "    return np.sqrt(mean_squared_error(y_true, y_pred))"
   ]
  },
  {
   "cell_type": "code",
   "execution_count": 30,
   "metadata": {},
   "outputs": [],
   "source": [
    "pipeline = make_pipeline(OrdinalEncoder(),\n",
    "                         SimpleImputer(),\n",
    "                         RandomForestRegressor())"
   ]
  },
  {
   "cell_type": "code",
   "execution_count": 31,
   "metadata": {},
   "outputs": [
    {
     "name": "stderr",
     "output_type": "stream",
     "text": [
      "/home/eric/anaconda3/lib/python3.7/site-packages/sklearn/ensemble/forest.py:246: FutureWarning: The default value of n_estimators will change from 10 in version 0.20 to 100 in 0.22.\n",
      "  \"10 in version 0.20 to 100 in 0.22.\", FutureWarning)\n"
     ]
    },
    {
     "data": {
      "text/plain": [
       "Pipeline(memory=None,\n",
       "     steps=[('ordinalencoder', OrdinalEncoder(cols=['diagnosis', 'state'], drop_invariant=False,\n",
       "        handle_missing='value', handle_unknown='value',\n",
       "        mapping=[{'col': 'diagnosis', 'mapping': Neurological    1\n",
       "Other           2\n",
       "Respiratory     3\n",
       "Circulatory     4\n",
       "Digestive       5\n",
       "Orthopedic   ...ators=10, n_jobs=None,\n",
       "           oob_score=False, random_state=None, verbose=0, warm_start=False))])"
      ]
     },
     "execution_count": 31,
     "metadata": {},
     "output_type": "execute_result"
    }
   ],
   "source": [
    "pipeline.fit(X_train, y_train)"
   ]
  },
  {
   "cell_type": "code",
   "execution_count": 32,
   "metadata": {},
   "outputs": [],
   "source": [
    "y_pred = pipeline.predict(X_test)"
   ]
  },
  {
   "cell_type": "code",
   "execution_count": 33,
   "metadata": {},
   "outputs": [
    {
     "name": "stdout",
     "output_type": "stream",
     "text": [
      "MAE: 681.0657434829487\n"
     ]
    }
   ],
   "source": [
    "print(\"MAE:\", mean_absolute_error(y_test, y_pred))"
   ]
  },
  {
   "cell_type": "code",
   "execution_count": 34,
   "metadata": {},
   "outputs": [],
   "source": [
    "def predict(diagnosis, state):\n",
    "    df = pd.DataFrame(\n",
    "        columns=['diagnosis', 'state'], \n",
    "        data=[[diagnosis, state]]\n",
    "    )\n",
    "    y_pred = pipeline.predict(df)[0]\n",
    "    return f'${y_pred:.0f}'"
   ]
  },
  {
   "cell_type": "code",
   "execution_count": 35,
   "metadata": {},
   "outputs": [
    {
     "data": {
      "text/plain": [
       "'$1188'"
      ]
     },
     "execution_count": 35,
     "metadata": {},
     "output_type": "execute_result"
    }
   ],
   "source": [
    "predict('Circulatory', 'AL')"
   ]
  },
  {
   "cell_type": "markdown",
   "metadata": {},
   "source": [
    "## Dump"
   ]
  },
  {
   "cell_type": "code",
   "execution_count": 36,
   "metadata": {},
   "outputs": [],
   "source": [
    "from joblib import dump, load"
   ]
  },
  {
   "cell_type": "code",
   "execution_count": 37,
   "metadata": {},
   "outputs": [
    {
     "data": {
      "text/plain": [
       "['medicare.joblib']"
      ]
     },
     "execution_count": 37,
     "metadata": {},
     "output_type": "execute_result"
    }
   ],
   "source": [
    "dump(pipeline, 'medicare.joblib')"
   ]
  },
  {
   "cell_type": "code",
   "execution_count": 38,
   "metadata": {
    "scrolled": true
   },
   "outputs": [
    {
     "data": {
      "text/html": [
       "<div>\n",
       "<style scoped>\n",
       "    .dataframe tbody tr th:only-of-type {\n",
       "        vertical-align: middle;\n",
       "    }\n",
       "\n",
       "    .dataframe tbody tr th {\n",
       "        vertical-align: top;\n",
       "    }\n",
       "\n",
       "    .dataframe thead th {\n",
       "        text-align: right;\n",
       "    }\n",
       "</style>\n",
       "<table border=\"1\" class=\"dataframe\">\n",
       "  <thead>\n",
       "    <tr style=\"text-align: right;\">\n",
       "      <th></th>\n",
       "      <th>diagnosis</th>\n",
       "      <th>state</th>\n",
       "    </tr>\n",
       "  </thead>\n",
       "  <tbody>\n",
       "    <tr>\n",
       "      <th>0</th>\n",
       "      <td>Neurological</td>\n",
       "      <td>AL</td>\n",
       "    </tr>\n",
       "    <tr>\n",
       "      <th>1</th>\n",
       "      <td>Neurological</td>\n",
       "      <td>AL</td>\n",
       "    </tr>\n",
       "    <tr>\n",
       "      <th>2</th>\n",
       "      <td>Neurological</td>\n",
       "      <td>AL</td>\n",
       "    </tr>\n",
       "    <tr>\n",
       "      <th>3</th>\n",
       "      <td>Neurological</td>\n",
       "      <td>AL</td>\n",
       "    </tr>\n",
       "    <tr>\n",
       "      <th>4</th>\n",
       "      <td>Neurological</td>\n",
       "      <td>AL</td>\n",
       "    </tr>\n",
       "  </tbody>\n",
       "</table>\n",
       "</div>"
      ],
      "text/plain": [
       "      diagnosis state\n",
       "0  Neurological    AL\n",
       "1  Neurological    AL\n",
       "2  Neurological    AL\n",
       "3  Neurological    AL\n",
       "4  Neurological    AL"
      ]
     },
     "execution_count": 38,
     "metadata": {},
     "output_type": "execute_result"
    }
   ],
   "source": [
    "X_train.head()"
   ]
  }
 ],
 "metadata": {
  "kernelspec": {
   "display_name": "Python 3",
   "language": "python",
   "name": "python3"
  },
  "language_info": {
   "codemirror_mode": {
    "name": "ipython",
    "version": 3
   },
   "file_extension": ".py",
   "mimetype": "text/x-python",
   "name": "python",
   "nbconvert_exporter": "python",
   "pygments_lexer": "ipython3",
   "version": "3.7.3"
  }
 },
 "nbformat": 4,
 "nbformat_minor": 2
}
